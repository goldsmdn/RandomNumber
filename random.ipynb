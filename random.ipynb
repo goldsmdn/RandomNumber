{
 "cells": [
  {
   "cell_type": "markdown",
   "id": "54b1e5d1",
   "metadata": {},
   "source": [
    "Notebook to generate random numbers\n",
    "================================"
   ]
  },
  {
   "cell_type": "markdown",
   "id": "3e13cb0f",
   "metadata": {},
   "source": [
    "Import libraries needed"
   ]
  },
  {
   "cell_type": "code",
   "execution_count": 1,
   "id": "3b7bf384",
   "metadata": {},
   "outputs": [],
   "source": [
    "import random\n",
    "import csv"
   ]
  },
  {
   "cell_type": "markdown",
   "id": "cf377c83",
   "metadata": {},
   "source": [
    "Define constants:"
   ]
  },
  {
   "cell_type": "code",
   "execution_count": 2,
   "id": "8c811c28",
   "metadata": {},
   "outputs": [],
   "source": [
    "QUANTITY = 130\n",
    "HIGHEST_NUMBER = 99999999"
   ]
  },
  {
   "cell_type": "code",
   "execution_count": 3,
   "id": "84c1003f",
   "metadata": {},
   "outputs": [],
   "source": [
    "if QUANTITY > HIGHEST_NUMBER:\n",
    "    raise Exception('Highest number must be greater than the quantity of numbers') "
   ]
  },
  {
   "cell_type": "code",
   "execution_count": 4,
   "id": "5e53deb5",
   "metadata": {},
   "outputs": [],
   "source": [
    "random_list = []\n",
    "count = 0\n",
    "while count < QUANTITY:\n",
    "    temp_list=[]\n",
    "    random_number = random.randint(0,HIGHEST_NUMBER)\n",
    "    if random_number not in random_list:\n",
    "        temp_list.append(f'{random_number:08d}')\n",
    "        #format with leading zero\n",
    "        random_list.append(temp_list)\n",
    "        #CSV writer needs a list of lists\n",
    "        count +=1"
   ]
  },
  {
   "cell_type": "code",
   "execution_count": 5,
   "id": "59dfe8fb",
   "metadata": {},
   "outputs": [],
   "source": [
    "with open('random_numbers.csv', 'w', encoding='UTF8', newline='') as f:\n",
    "    writer = csv.writer(f)\n",
    "    writer.writerows(random_list)"
   ]
  }
 ],
 "metadata": {
  "kernelspec": {
   "display_name": "Python 3",
   "language": "python",
   "name": "python3"
  },
  "language_info": {
   "codemirror_mode": {
    "name": "ipython",
    "version": 3
   },
   "file_extension": ".py",
   "mimetype": "text/x-python",
   "name": "python",
   "nbconvert_exporter": "python",
   "pygments_lexer": "ipython3",
   "version": "3.8.10"
  }
 },
 "nbformat": 4,
 "nbformat_minor": 5
}
