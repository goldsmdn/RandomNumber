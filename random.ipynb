{
 "cells": [
  {
   "cell_type": "markdown",
   "id": "54b1e5d1",
   "metadata": {},
   "source": [
    "Notebook to generate random numbers\n",
    "================================"
   ]
  },
  {
   "cell_type": "markdown",
   "id": "3e13cb0f",
   "metadata": {},
   "source": [
    "Import libraries needed"
   ]
  },
  {
   "cell_type": "code",
   "execution_count": 1,
   "id": "3b7bf384",
   "metadata": {},
   "outputs": [],
   "source": [
    "import random\n",
    "import csv"
   ]
  },
  {
   "cell_type": "markdown",
   "id": "cf377c83",
   "metadata": {},
   "source": [
    "Define constants:"
   ]
  },
  {
   "cell_type": "code",
   "execution_count": 2,
   "id": "8c811c28",
   "metadata": {},
   "outputs": [],
   "source": [
    "QUANTITY = 130            #Quantity of random numbers generated\n",
    "LOWEST_NUMBER = 1         #Lowest possible random number.  \n",
    "HIGHEST_NUMBER = 99999999"
   ]
  },
  {
   "cell_type": "code",
   "execution_count": 3,
   "id": "84c1003f",
   "metadata": {},
   "outputs": [],
   "source": [
    "if QUANTITY > HIGHEST_NUMBER:\n",
    "    raise Exception('Highest number must be greater than the quantity of numbers') "
   ]
  },
  {
   "cell_type": "code",
   "execution_count": 4,
   "id": "5e53deb5",
   "metadata": {},
   "outputs": [],
   "source": [
    "random_list = []\n",
    "random_list_file = []\n",
    "count = 0\n",
    "while count < QUANTITY:\n",
    "    random_number = random.randint(LOWEST_NUMBER,HIGHEST_NUMBER)\n",
    "    if random_number not in random_list:     \n",
    "        random_list.append(random_number)\n",
    "        random_list_file.append([f'{random_number:08d}'])\n",
    "        #format with leading zero\n",
    "        #CSV writer needs a list of lists\n",
    "        count +=1"
   ]
  },
  {
   "cell_type": "code",
   "execution_count": 5,
   "id": "a9cdc38c",
   "metadata": {},
   "outputs": [
    {
     "name": "stdout",
     "output_type": "stream",
     "text": [
      "[['75590290'], ['91788748'], ['60940242'], ['09153745'], ['67208119'], ['81954847'], ['29117494'], ['86892457'], ['97991298'], ['54025469'], ['75255595'], ['35618823'], ['43693483'], ['05220109'], ['75240339'], ['84796375'], ['62326716'], ['47092533'], ['12017450'], ['45241718'], ['84689668'], ['68736062'], ['96437141'], ['39324317'], ['64067941'], ['63726484'], ['39584325'], ['13747266'], ['20075767'], ['42955749'], ['99953992'], ['10818095'], ['99179763'], ['92502891'], ['91891817'], ['62541299'], ['77372881'], ['14726367'], ['48514358'], ['47438409'], ['39506859'], ['57382266'], ['83016091'], ['36054347'], ['23665485'], ['88411113'], ['65036163'], ['60926276'], ['68300326'], ['46848832'], ['15912505'], ['16857546'], ['90904741'], ['18473771'], ['06889099'], ['00563475'], ['09718202'], ['58370431'], ['28924944'], ['41849777'], ['89187974'], ['49809195'], ['94333373'], ['65812854'], ['70484481'], ['74797705'], ['29168004'], ['93663327'], ['65594167'], ['26574845'], ['85487593'], ['72877285'], ['17946737'], ['42124533'], ['01799004'], ['95278016'], ['43175718'], ['66338244'], ['17964944'], ['52614293'], ['71197583'], ['98778722'], ['12250030'], ['08017573'], ['60681953'], ['88014227'], ['84430210'], ['24574746'], ['50187274'], ['98757335'], ['67868258'], ['68374114'], ['93600106'], ['68920168'], ['52413384'], ['20315469'], ['32276234'], ['03363000'], ['23046388'], ['48004680'], ['94700480'], ['56359940'], ['42318747'], ['61503808'], ['31673349'], ['21091722'], ['50788815'], ['34413011'], ['08361950'], ['43296544'], ['41098828'], ['32919152'], ['12587297'], ['78279529'], ['07967457'], ['49025405'], ['30083630'], ['94294826'], ['47291272'], ['39085484'], ['26648956'], ['45281236'], ['85288270'], ['58743700'], ['64505503'], ['35324835'], ['69046873'], ['14979024'], ['90935680'], ['44379753']]\n"
     ]
    }
   ],
   "source": [
    "print(random_list_file)"
   ]
  },
  {
   "cell_type": "code",
   "execution_count": 6,
   "id": "59dfe8fb",
   "metadata": {},
   "outputs": [],
   "source": [
    "with open('random_numbers.csv', 'w', encoding='UTF8', newline='') as f:\n",
    "    writer = csv.writer(f)\n",
    "    writer.writerows(random_list_file)"
   ]
  }
 ],
 "metadata": {
  "kernelspec": {
   "display_name": "Python 3",
   "language": "python",
   "name": "python3"
  },
  "language_info": {
   "codemirror_mode": {
    "name": "ipython",
    "version": 3
   },
   "file_extension": ".py",
   "mimetype": "text/x-python",
   "name": "python",
   "nbconvert_exporter": "python",
   "pygments_lexer": "ipython3",
   "version": "3.8.10"
  }
 },
 "nbformat": 4,
 "nbformat_minor": 5
}
